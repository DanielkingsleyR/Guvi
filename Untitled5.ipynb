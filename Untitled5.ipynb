{
  "nbformat": 4,
  "nbformat_minor": 0,
  "metadata": {
    "colab": {
      "provenance": [],
      "authorship_tag": "ABX9TyNn1wDDBe6gH2ecB9BN5nt8",
      "include_colab_link": true
    },
    "kernelspec": {
      "name": "python3",
      "display_name": "Python 3"
    },
    "language_info": {
      "name": "python"
    }
  },
  "cells": [
    {
      "cell_type": "markdown",
      "metadata": {
        "id": "view-in-github",
        "colab_type": "text"
      },
      "source": [
        "<a href=\"https://colab.research.google.com/github/DanielkingsleyR/Guvi/blob/main/Untitled5.ipynb\" target=\"_parent\"><img src=\"https://colab.research.google.com/assets/colab-badge.svg\" alt=\"Open In Colab\"/></a>"
      ]
    },
    {
      "cell_type": "code",
      "execution_count": null,
      "metadata": {
        "id": "MYaheUUJxz3C"
      },
      "outputs": [],
      "source": []
    },
    {
      "cell_type": "code",
      "source": [
        "import re\n",
        "import getpass\n",
        "\n",
        "email_cond='[A-Za-z0-9_+*]+@[A-Za-z0-9]+\\.[A-Za-z]{3,}'\n",
        "def check(email):\n",
        "    if re.search(\"^1\",email):\n",
        "        print(\"invalid mail\")\n",
        "    else:\n",
        "        if(re.fullmatch(email_cond,email)):\n",
        "            print(\"valid mail\")\n",
        "        else:\n",
        "            print(\"invalid mail\")\n",
        "\n",
        "        \n",
        "email=input(\"enter email \")\n",
        "check(email)\n",
        "\n",
        "p=getpass.getpass()\n",
        "flag=1\n",
        "while True:\n",
        "    if(len(p)<8):\n",
        "        flag=0\n",
        "        break\n",
        "    elif not re.search(\"[a-z]\",p):\n",
        "        flag=0\n",
        "        break\n",
        "    elif not re.search(\"[A-Z]\",p):\n",
        "        flag=0\n",
        "        break\n",
        "    elif not re.search(\"[0-9]\",p):\n",
        "        flag=0\n",
        "        break\n",
        "    elif not re.search(\"[@$]\",p):\n",
        "        flag=0\n",
        "        break\n",
        "    elif re.search(\"\\s\",p):\n",
        "        flag=0\n",
        "        break\n",
        "    else:\n",
        "        print(\"valid password\")\n",
        "        break\n",
        "if flag==0:\n",
        "    print(\"invalid\")\n",
        "\n",
        "f=open(\"sample52.txt\",\"w\") \n",
        "\n",
        "myDict = {'Email': 'sherlock@gmail.com', 'Name': 'Sherlock' , 'Age': '23', 'Address': 'London'}\n",
        "\n",
        "key = input(\"Please enter the Mail you want to search for: \")\n",
        "if key in myDict.values():\n",
        "    print(\"\\nMail Exists \")\n",
        "else:\n",
        "    print(\"\\nMail Does not Exists. Kindly register your login on portal\")\n",
        "f.close()"
      ],
      "metadata": {
        "colab": {
          "base_uri": "https://localhost:8080/"
        },
        "id": "HxCp2sG1x1UP",
        "outputId": "1a29c448-6e5e-408e-c8da-b11b4b780987"
      },
      "execution_count": 1,
      "outputs": [
        {
          "output_type": "stream",
          "name": "stdout",
          "text": [
            "enter email sherlock@gmail.com\n",
            "valid mail\n",
            "··········\n",
            "valid password\n",
            "Please enter the Mail you want to search for: sherlock@gmail.com\n",
            "\n",
            "Mail Exists \n"
          ]
        }
      ]
    }
  ]
}